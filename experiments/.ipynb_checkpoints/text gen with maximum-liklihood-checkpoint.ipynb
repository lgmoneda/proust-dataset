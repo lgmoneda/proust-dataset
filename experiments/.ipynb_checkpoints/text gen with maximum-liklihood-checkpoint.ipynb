{
 "cells": [
  {
   "cell_type": "markdown",
   "metadata": {},
   "source": [
    "Based on @yaov notebook \"The unreasonable effectiveness of Character-level Language Models\" (http://nbviewer.jupyter.org/gist/yoavg/d76121dfde2618422139).\n",
    "\n",
    "Using the ** unsmoothed maximum-liklihood character level language models ** to create "
   ]
  },
  {
   "cell_type": "code",
   "execution_count": 1,
   "metadata": {
    "collapsed": true
   },
   "outputs": [],
   "source": [
    "import pandas as pd"
   ]
  },
  {
   "cell_type": "code",
   "execution_count": 2,
   "metadata": {
    "collapsed": true
   },
   "outputs": [],
   "source": [
    "data = pd.read_csv(\"proust_dataset.csv\", sep=\"@\")"
   ]
  },
  {
   "cell_type": "code",
   "execution_count": 3,
   "metadata": {
    "collapsed": false
   },
   "outputs": [
    {
     "data": {
      "text/html": [
       "<div>\n",
       "<table border=\"1\" class=\"dataframe\">\n",
       "  <thead>\n",
       "    <tr style=\"text-align: right;\">\n",
       "      <th></th>\n",
       "      <th>Unnamed: 0</th>\n",
       "      <th>paragraph</th>\n",
       "      <th>volume</th>\n",
       "      <th>chapter</th>\n",
       "    </tr>\n",
       "  </thead>\n",
       "  <tbody>\n",
       "    <tr>\n",
       "      <th>0</th>\n",
       "      <td>0</td>\n",
       "      <td>For a long time I used to go to bed early. Som...</td>\n",
       "      <td>1</td>\n",
       "      <td>1</td>\n",
       "    </tr>\n",
       "    <tr>\n",
       "      <th>1</th>\n",
       "      <td>1</td>\n",
       "      <td>I would ask myself what o’clock it could be; I...</td>\n",
       "      <td>1</td>\n",
       "      <td>1</td>\n",
       "    </tr>\n",
       "    <tr>\n",
       "      <th>2</th>\n",
       "      <td>2</td>\n",
       "      <td>I would lay my cheeks gently against the comfo...</td>\n",
       "      <td>1</td>\n",
       "      <td>1</td>\n",
       "    </tr>\n",
       "    <tr>\n",
       "      <th>3</th>\n",
       "      <td>3</td>\n",
       "      <td>I would fall asleep, and often I would be awak...</td>\n",
       "      <td>1</td>\n",
       "      <td>1</td>\n",
       "    </tr>\n",
       "    <tr>\n",
       "      <th>4</th>\n",
       "      <td>4</td>\n",
       "      <td>Sometimes, too, just as Eve was created from a...</td>\n",
       "      <td>1</td>\n",
       "      <td>1</td>\n",
       "    </tr>\n",
       "  </tbody>\n",
       "</table>\n",
       "</div>"
      ],
      "text/plain": [
       "   Unnamed: 0                                          paragraph  volume  \\\n",
       "0           0  For a long time I used to go to bed early. Som...       1   \n",
       "1           1  I would ask myself what o’clock it could be; I...       1   \n",
       "2           2  I would lay my cheeks gently against the comfo...       1   \n",
       "3           3  I would fall asleep, and often I would be awak...       1   \n",
       "4           4  Sometimes, too, just as Eve was created from a...       1   \n",
       "\n",
       "   chapter  \n",
       "0        1  \n",
       "1        1  \n",
       "2        1  \n",
       "3        1  \n",
       "4        1  "
      ]
     },
     "execution_count": 3,
     "metadata": {},
     "output_type": "execute_result"
    }
   ],
   "source": [
    "data.head(5)"
   ]
  },
  {
   "cell_type": "code",
   "execution_count": 1,
   "metadata": {
    "collapsed": true
   },
   "outputs": [],
   "source": [
    "from collections import *\n",
    "\n",
    "def train_char_lm(fname, order=4):\n",
    "    data = file(fname).read()\n",
    "    lm = defaultdict(Counter)\n",
    "    pad = \"~\" * order\n",
    "    data = pad + data\n",
    "    for i in xrange(len(data)-order):\n",
    "        history, char = data[i:i+order], data[i+order]\n",
    "        lm[history][char]+=1\n",
    "    def normalize(counter):\n",
    "        s = float(sum(counter.values()))\n",
    "        return [(c,cnt/s) for c,cnt in counter.iteritems()]\n",
    "    outlm = {hist:normalize(chars) for hist, chars in lm.iteritems()}\n",
    "    return outlm"
   ]
  },
  {
   "cell_type": "code",
   "execution_count": 11,
   "metadata": {
    "collapsed": false
   },
   "outputs": [],
   "source": [
    "lm = train_char_lm(\"test.txt\", order=4)"
   ]
  },
  {
   "cell_type": "code",
   "execution_count": 19,
   "metadata": {
    "collapsed": false
   },
   "outputs": [
    {
     "name": "stdout",
     "output_type": "stream",
     "text": [
      "[('a', 0.3095004897159647), ('d', 0.015670910871694418), ('g', 0.07541625857002938), ('i', 0.03721841332027424), ('m', 0.5533790401567091), ('l', 0.0009794319294809011), ('t', 0.005876591576885406), ('w', 0.0019588638589618022)]\n"
     ]
    }
   ],
   "source": [
    "print lm[\"char\"]"
   ]
  },
  {
   "cell_type": "code",
   "execution_count": 2,
   "metadata": {
    "collapsed": true
   },
   "outputs": [],
   "source": [
    "from random import random\n",
    "\n",
    "def generate_letter(lm, history, order):\n",
    "        history = history[-order:]\n",
    "        dist = lm[history]\n",
    "        x = random()\n",
    "        for c,v in dist:\n",
    "            x = x - v\n",
    "            if x <= 0: return c\n"
   ]
  },
  {
   "cell_type": "code",
   "execution_count": 3,
   "metadata": {
    "collapsed": true
   },
   "outputs": [],
   "source": [
    "def generate_text(lm, order, nletters=1000):\n",
    "    history = \"~\" * order\n",
    "    out = []\n",
    "    for i in xrange(nletters):\n",
    "        c = generate_letter(lm, history, order)\n",
    "        history = history[-order:] + c\n",
    "        out.append(c)\n",
    "    return \"\".join(out)\n",
    "\n"
   ]
  },
  {
   "cell_type": "code",
   "execution_count": 23,
   "metadata": {
    "collapsed": false
   },
   "outputs": [
    {
     "name": "stdout",
     "output_type": "stream",
     "text": [
      "For a long time, has managed to embody themselves or if there were congratulate us and add that there did exist in so remote. But, as kindness with Albertine; and what was incumbent upon his Germanic in porphyry and enamelled face of the soothing worse.” He begged that one of the emotion when she pretended for my entertained the ugly old monkey?”|1|2\n",
      "“Actor? No, I can see that the Faubourg Saint-Germain; hers is the less than a little longer, to begin a spirit of imitation of the truth on the other persons. And now she is convinced that it was a new friends were giving, a reality in order to force themselves as an animal to which we put to ourselves, the water, over a series of rooms as soon as she entered the room to sit down by me, and knew that she was a young person — to console him by insisting that if my gaze could not have the courage to hire the same little houses of this young man for whom we would steal into the other ring, Albertine of to-day and I must confess that \n"
     ]
    }
   ],
   "source": [
    "lm = train_char_lm(\"pt-br/prous_dataset_ptbr.txt\", order=10)\n",
    "print generate_text(lm, 10)"
   ]
  },
  {
   "cell_type": "markdown",
   "metadata": {},
   "source": [
    "For a long time, has managed to embody themselves or if there were congratulate us and add that there did exist in so remote. But, as kindness with Albertine; and what was incumbent upon his Germanic in porphyry and enamelled face of the soothing worse.” He begged that one of the emotion when she pretended for my entertained the ugly old monkey?”|1|2\n",
    "“Actor? No, I can see that the Faubourg Saint-Germain; hers is the less than a little longer, to begin a spirit of imitation of the truth on the other persons. And now she is convinced that it was a new friends were giving, a reality in order to force themselves as an animal to which we put to ourselves, the water, over a series of rooms as soon as she entered the room to sit down by me, and knew that she was a young person — to console him by insisting that if my gaze could not have the courage to hire the same little houses of this young man for whom we would steal into the other ring, Albertine of to-day and I must confess that \n"
   ]
  },
  {
   "cell_type": "code",
   "execution_count": 28,
   "metadata": {
    "collapsed": false
   },
   "outputs": [
    {
     "name": "stdout",
     "output_type": "stream",
     "text": [
      "Durante muito tempo, costumava deitar-me cedo. Às vezes, mal apagava a vela, meus olhos se fechavam tão depressa que eu nem tinha tempo de pensar: “Adormeço”. E, meia hora depois, despertava-me a ideia de que já era tempo de procurar dormir; queria largar o volume que imaginava ter ainda nas mãos e soprar a vela; durante o sono, não havia cessado de refletir sobre o que acabara de ler, mas essas reflexões tinham assumido uma feição um tanto particular; parecia-me que eu era o assunto de que tratava o livro: uma igreja, um quarteto, a rivalidade entre Francisco i e Carlos v.[5] Essa crença sobrevivia alguns segundos ao despertar; não chocava minha razão, mas pairava-me como um véu sobre os olhos, impedindo-os de ver que a luz já não estava acesa. Depois começava a parecer-me ininteligível, como, após a metempsicose, os pensamentos de uma existência anterior; o tema da obra destacava-se de mim, ficando eu livre para adaptar-me ou não a ele; em seguida recuperava a\n"
     ]
    }
   ],
   "source": [
    "lm = train_char_lm(\"pt-br/proust_dataset_ptbr.txt\", order=30)\n",
    "print generate_text(lm, 30)"
   ]
  },
  {
   "cell_type": "code",
   "execution_count": 29,
   "metadata": {
    "collapsed": false
   },
   "outputs": [
    {
     "data": {
      "text/plain": [
       "'For a long time I used to go to bed early. Sometimes, when I had put out my candle, my eyes would close so quickly that I had not even time to say \\xe2\\x80\\x9cI\\xe2\\x80\\x99m going to sleep.\\xe2\\x80\\x9d And half an hour later the thought that it was time to go to sleep would awaken me; I would try to put away the book which, I imagined, was still in my hands, and to blow out the light; I had been thinking all the time, while I was asleep, of what I had just been reading, but my thoughts had run into a channel of their own, until I myself seemed actually to have become the subject of my book: a church, a quartet, the rivalry between Fran\\xc3\\xa7ois I and Charles V. This impression would persist for some moments after I was awake; it did not disturb my mind, but it lay like scales upon my eyes and prevented them from registering the fact that the candle was no longer burning. Then it would begin to seem unintelligible, as the thoughts of a former existence must be to a reincarnate spirit; the subject of my book would separate itself from me, leaving me free to choose whether I would form part of it or no; and at the same time my sight would return and I would be astonished to find myself in a state of darkness, pleasant and restful enough for the eyes, and even more, perhaps, for my mind, to which it appeared incomprehensible, without a cause, a matter dark indeed.'"
      ]
     },
     "execution_count": 29,
     "metadata": {},
     "output_type": "execute_result"
    }
   ],
   "source": [
    "data[\"paragraph\"][0]"
   ]
  },
  {
   "cell_type": "code",
   "execution_count": 30,
   "metadata": {
    "collapsed": true
   },
   "outputs": [],
   "source": [
    "data = pd.read_csv(\"pt-br/proust_dataset.csv\", sep=\"@\")"
   ]
  },
  {
   "cell_type": "code",
   "execution_count": 31,
   "metadata": {
    "collapsed": false
   },
   "outputs": [
    {
     "data": {
      "text/plain": [
       "'Durante muito tempo, costumava deitar-me cedo. \\xc3\\x80s vezes, mal apagava a vela, meus olhos se fechavam t\\xc3\\xa3o depressa que eu nem tinha tempo de pensar: \\xe2\\x80\\x9cAdorme\\xc3\\xa7o\\xe2\\x80\\x9d. E, meia hora depois, despertava-me a ideia de que j\\xc3\\xa1 era tempo de procurar dormir; queria largar o volume que imaginava ter ainda nas m\\xc3\\xa3os e soprar a vela; durante o sono, n\\xc3\\xa3o havia cessado de refletir sobre o que acabara de ler, mas essas reflex\\xc3\\xb5es tinham assumido uma fei\\xc3\\xa7\\xc3\\xa3o um tanto particular; parecia-me que eu era o assunto de que tratava o livro: uma igreja, um quarteto, a rivalidade entre Francisco i e Carlos v.[5] Essa cren\\xc3\\xa7a sobrevivia alguns segundos ao despertar; n\\xc3\\xa3o chocava minha raz\\xc3\\xa3o, mas pairava-me como um v\\xc3\\xa9u sobre os olhos, impedindo-os de ver que a luz j\\xc3\\xa1 n\\xc3\\xa3o estava acesa. Depois come\\xc3\\xa7ava a parecer-me inintelig\\xc3\\xadvel, como, ap\\xc3\\xb3s a metempsicose, os pensamentos de uma exist\\xc3\\xaancia anterior; o tema da obra destacava-se de mim, ficando eu livre para adaptar-me ou n\\xc3\\xa3o a ele; em seguida recuperava a vista, at\\xc3\\xb4nito de encontrar em derredor uma obscuridade, suave e repousante para os olhos, mas talvez ainda mais para o esp\\xc3\\xadrito, ao qual se apresentava como algo sem causa, incompreens\\xc3\\xadvel, algo de verdadeiramente obscuro. Indagava comigo que horas seriam; ouvia o silvo dos trens que, ora mais, ora menos afastado, e marcando as dist\\xc3\\xa2ncias como o canto de um p\\xc3\\xa1ssaro em uma floresta, descrevia-me a extens\\xc3\\xa3o do campo deserto, onde o viajante se apressa em dire\\xc3\\xa7\\xc3\\xa3o \\xc3\\xa0 pr\\xc3\\xb3xima parada: o caminho que ele segue[6] vai lhe ficar gravado na lembran\\xc3\\xa7a com a excita\\xc3\\xa7\\xc3\\xa3o produzida pelos lugares novos, os atos inabituais, pela recente conversa e as despedidas trocadas \\xc3\\xa0 luz de l\\xc3\\xa2mpada estranha que ainda o acompanham no sil\\xc3\\xaancio da noite, e pela do\\xc3\\xa7ura pr\\xc3\\xb3xima do regresso.'"
      ]
     },
     "execution_count": 31,
     "metadata": {},
     "output_type": "execute_result"
    }
   ],
   "source": [
    "data[\"paragraph\"][0]"
   ]
  },
  {
   "cell_type": "markdown",
   "metadata": {},
   "source": [
    "Durante muito tempo, costumava deitar-me cedo. Às vezes, mal apagava a vela, meus olhos se fechavam tão depressa que eu nem tinha tempo de pensar: “Adormeço”. E, meia hora depois, despertava-me a ideia de que já era tempo de procurar dormir; queria largar o volume que imaginava ter ainda nas mãos e soprar a vela; durante o sono, não havia cessado de refletir sobre o que acabara de ler, mas essas reflexões tinham assumido uma feição um tanto particular; parecia-me que eu era o assunto de que tratava o livro: uma igreja, um quarteto, a rivalidade entre Francisco i e Carlos v.[5] Essa crença sobrevivia alguns segundos ao despertar; não chocava minha razão, mas pairava-me como um véu sobre os olhos, impedindo-os de ver que a luz já não estava acesa. Depois começava a parecer-me ininteligível, como, após a metempsicose, os pensamentos de uma existência anterior; o tema da obra destacava-se de mim, ficando eu livre para adaptar-me ou não a ele; em seguida recuperava a"
   ]
  },
  {
   "cell_type": "code",
   "execution_count": null,
   "metadata": {
    "collapsed": true
   },
   "outputs": [],
   "source": [
    "print generate_text(lm, 10)"
   ]
  },
  {
   "cell_type": "code",
   "execution_count": 4,
   "metadata": {
    "collapsed": true
   },
   "outputs": [],
   "source": [
    "lm = train_char_lm(\"pt-br/proust_dataset_ptbr.txt\", order=10)"
   ]
  },
  {
   "cell_type": "code",
   "execution_count": 5,
   "metadata": {
    "collapsed": false
   },
   "outputs": [
    {
     "name": "stdout",
     "output_type": "stream",
     "text": [
      "Durante mu\n"
     ]
    }
   ],
   "source": [
    "print generate_text(lm, 10, nletters=10)"
   ]
  },
  {
   "cell_type": "code",
   "execution_count": 65,
   "metadata": {
    "collapsed": false
   },
   "outputs": [],
   "source": [
    "import random\n",
    "def generate_letter(lm, history, order):\n",
    "        history = history[-order:]   \n",
    "        #print history\n",
    "        #print len(history) \n",
    "        if len(history) < order:\n",
    "            #print \"Possible\"\n",
    "            possible_hist = [key for key, value in lm.items() if history.lower() == key.lower()[-len(history):]]\n",
    "            #print possible_hist\n",
    "            history = possible_hist[random.randint(0, len(possible_hist)-1)]\n",
    "        #print history\n",
    "        try:\n",
    "            dist = lm[history]\n",
    "        except:\n",
    "            dist = lm[history.lower()]\n",
    "        x = random.random()\n",
    "        for c,v in dist:\n",
    "            x = x - v\n",
    "            if x <= 0: return c\n",
    "\n",
    "\n",
    "def generate_text(lm, order, nletters=1000, history=None):\n",
    "    if history == None: \n",
    "        history = \"~\" * order\n",
    "    else:\n",
    "        history = history[:min(len(history), order)]\n",
    "    out = []\n",
    "    out.append(history)\n",
    "    while(len(out) < nletters or out[-1] != \".\"):\n",
    "    #for i in xrange(nletters):\n",
    "        c = generate_letter(lm, history, order)\n",
    "        history = history[-order:] + c\n",
    "        out.append(c)\n",
    "    return \"\".join(out)"
   ]
  },
  {
   "cell_type": "code",
   "execution_count": 18,
   "metadata": {
    "collapsed": false
   },
   "outputs": [
    {
     "name": "stdout",
     "output_type": "stream",
     "text": [
      "Albertine, saborear esse elemento tão somente enquanto fosse reconhecer as moças naquela \n",
      "novidade, que não oferecido. Lembras-te da ideia estapafúrdias, que não era mais que essa sucursal de um aparato de comentava a minha palavra designar, sabendo como essas história da literatura à \n",
      "gulodice, opinou por irritar e parece muito (para a sra. de Guermantes e dirigia ao longe em longe, e lamento apaga\n"
     ]
    }
   ],
   "source": [
    "lm = train_char_lm(\"pt-br/proust_dataset_ptbr.txt\", order=9)\n",
    "print generate_text(lm, 9, nletters=400, history=\"Albertine\")"
   ]
  },
  {
   "cell_type": "code",
   "execution_count": 43,
   "metadata": {
    "collapsed": false
   },
   "outputs": [
    {
     "name": "stdout",
     "output_type": "stream",
     "text": [
      "O amor e o ódio aos outros sem mim, \n",
      "e muito natural como o peixe (mesmo \n",
      "que, se a Sra. Verdurin dizia sem alma”. E para render sua momentânea. Assim, quanto minha mãe, aliás, exemplar para as baleias, não sem \n",
      "dificuldades em poucos minutos, \n",
      "como as que eu pensaria que tinha vendido, a gente se \n"
     ]
    }
   ],
   "source": [
    "print generate_text(lm, 9, nletters=300, history=\"O amor\")"
   ]
  },
  {
   "cell_type": "code",
   "execution_count": 19,
   "metadata": {
    "collapsed": false
   },
   "outputs": [
    {
     "name": "stdout",
     "output_type": "stream",
     "text": [
      "Albertine e suas amigas, no salão, pelas vias impressões! E a propósito dos Verdurin, irritado completamente invejava, achava melhoras passava qui\n"
     ]
    }
   ],
   "source": [
    "print generate_text(lm, 9, nletters=140, history=\"Albertine\")"
   ]
  },
  {
   "cell_type": "code",
   "execution_count": 44,
   "metadata": {
    "collapsed": false
   },
   "outputs": [
    {
     "ename": "IndexError",
     "evalue": "list index out of range",
     "output_type": "error",
     "traceback": [
      "\u001b[1;31m---------------------------------------------------------------------------\u001b[0m",
      "\u001b[1;31mIndexError\u001b[0m                                Traceback (most recent call last)",
      "\u001b[1;32m<ipython-input-44-3090ef5f8650>\u001b[0m in \u001b[0;36m<module>\u001b[1;34m()\u001b[0m\n\u001b[0;32m      1\u001b[0m \u001b[0mlm\u001b[0m \u001b[1;33m=\u001b[0m \u001b[0mtrain_char_lm\u001b[0m\u001b[1;33m(\u001b[0m\u001b[1;34m\"pt-br/proust_dataset_ptbr.txt\"\u001b[0m\u001b[1;33m,\u001b[0m \u001b[0morder\u001b[0m\u001b[1;33m=\u001b[0m\u001b[1;36m15\u001b[0m\u001b[1;33m)\u001b[0m\u001b[1;33m\u001b[0m\u001b[0m\n\u001b[1;32m----> 2\u001b[1;33m \u001b[1;32mprint\u001b[0m \u001b[0mgenerate_text\u001b[0m\u001b[1;33m(\u001b[0m\u001b[0mlm\u001b[0m\u001b[1;33m,\u001b[0m \u001b[1;36m9\u001b[0m\u001b[1;33m,\u001b[0m \u001b[0mnletters\u001b[0m\u001b[1;33m=\u001b[0m\u001b[1;36m300\u001b[0m\u001b[1;33m,\u001b[0m \u001b[0mhistory\u001b[0m\u001b[1;33m=\u001b[0m\u001b[1;34m\"O amor\"\u001b[0m\u001b[1;33m)\u001b[0m\u001b[1;33m\u001b[0m\u001b[0m\n\u001b[0m",
      "\u001b[1;32m<ipython-input-42-8e5f27251dd3>\u001b[0m in \u001b[0;36mgenerate_text\u001b[1;34m(lm, order, nletters, history)\u001b[0m\n\u001b[0;32m     26\u001b[0m     \u001b[0mout\u001b[0m\u001b[1;33m.\u001b[0m\u001b[0mappend\u001b[0m\u001b[1;33m(\u001b[0m\u001b[0mhistory\u001b[0m\u001b[1;33m)\u001b[0m\u001b[1;33m\u001b[0m\u001b[0m\n\u001b[0;32m     27\u001b[0m     \u001b[1;32mfor\u001b[0m \u001b[0mi\u001b[0m \u001b[1;32min\u001b[0m \u001b[0mxrange\u001b[0m\u001b[1;33m(\u001b[0m\u001b[0mnletters\u001b[0m\u001b[1;33m)\u001b[0m\u001b[1;33m:\u001b[0m\u001b[1;33m\u001b[0m\u001b[0m\n\u001b[1;32m---> 28\u001b[1;33m         \u001b[0mc\u001b[0m \u001b[1;33m=\u001b[0m \u001b[0mgenerate_letter\u001b[0m\u001b[1;33m(\u001b[0m\u001b[0mlm\u001b[0m\u001b[1;33m,\u001b[0m \u001b[0mhistory\u001b[0m\u001b[1;33m,\u001b[0m \u001b[0morder\u001b[0m\u001b[1;33m)\u001b[0m\u001b[1;33m\u001b[0m\u001b[0m\n\u001b[0m\u001b[0;32m     29\u001b[0m         \u001b[0mhistory\u001b[0m \u001b[1;33m=\u001b[0m \u001b[0mhistory\u001b[0m\u001b[1;33m[\u001b[0m\u001b[1;33m-\u001b[0m\u001b[0morder\u001b[0m\u001b[1;33m:\u001b[0m\u001b[1;33m]\u001b[0m \u001b[1;33m+\u001b[0m \u001b[0mc\u001b[0m\u001b[1;33m\u001b[0m\u001b[0m\n\u001b[0;32m     30\u001b[0m         \u001b[0mout\u001b[0m\u001b[1;33m.\u001b[0m\u001b[0mappend\u001b[0m\u001b[1;33m(\u001b[0m\u001b[0mc\u001b[0m\u001b[1;33m)\u001b[0m\u001b[1;33m\u001b[0m\u001b[0m\n",
      "\u001b[1;32m<ipython-input-42-8e5f27251dd3>\u001b[0m in \u001b[0;36mgenerate_letter\u001b[1;34m(lm, history, order)\u001b[0m\n\u001b[0;32m      7\u001b[0m             \u001b[0mpossible_hist\u001b[0m \u001b[1;33m=\u001b[0m \u001b[1;33m[\u001b[0m\u001b[0mkey\u001b[0m \u001b[1;32mfor\u001b[0m \u001b[0mkey\u001b[0m\u001b[1;33m,\u001b[0m \u001b[0mvalue\u001b[0m \u001b[1;32min\u001b[0m \u001b[0mlm\u001b[0m\u001b[1;33m.\u001b[0m\u001b[0mitems\u001b[0m\u001b[1;33m(\u001b[0m\u001b[1;33m)\u001b[0m \u001b[1;32mif\u001b[0m \u001b[0mhistory\u001b[0m\u001b[1;33m.\u001b[0m\u001b[0mlower\u001b[0m\u001b[1;33m(\u001b[0m\u001b[1;33m)\u001b[0m \u001b[1;33m==\u001b[0m \u001b[0mkey\u001b[0m\u001b[1;33m.\u001b[0m\u001b[0mlower\u001b[0m\u001b[1;33m(\u001b[0m\u001b[1;33m)\u001b[0m\u001b[1;33m[\u001b[0m\u001b[1;33m-\u001b[0m\u001b[0mlen\u001b[0m\u001b[1;33m(\u001b[0m\u001b[0mhistory\u001b[0m\u001b[1;33m)\u001b[0m\u001b[1;33m:\u001b[0m\u001b[1;33m]\u001b[0m\u001b[1;33m]\u001b[0m\u001b[1;33m\u001b[0m\u001b[0m\n\u001b[0;32m      8\u001b[0m             \u001b[1;31m#print possible_hist\u001b[0m\u001b[1;33m\u001b[0m\u001b[1;33m\u001b[0m\u001b[0m\n\u001b[1;32m----> 9\u001b[1;33m             \u001b[0mhistory\u001b[0m \u001b[1;33m=\u001b[0m \u001b[0mpossible_hist\u001b[0m\u001b[1;33m[\u001b[0m\u001b[0mrandom\u001b[0m\u001b[1;33m.\u001b[0m\u001b[0mrandint\u001b[0m\u001b[1;33m(\u001b[0m\u001b[1;36m0\u001b[0m\u001b[1;33m,\u001b[0m \u001b[0mlen\u001b[0m\u001b[1;33m(\u001b[0m\u001b[0mpossible_hist\u001b[0m\u001b[1;33m)\u001b[0m\u001b[1;33m)\u001b[0m\u001b[1;33m]\u001b[0m\u001b[1;33m\u001b[0m\u001b[0m\n\u001b[0m\u001b[0;32m     10\u001b[0m         \u001b[1;32mtry\u001b[0m\u001b[1;33m:\u001b[0m\u001b[1;33m\u001b[0m\u001b[0m\n\u001b[0;32m     11\u001b[0m             \u001b[0mdist\u001b[0m \u001b[1;33m=\u001b[0m \u001b[0mlm\u001b[0m\u001b[1;33m[\u001b[0m\u001b[0mhistory\u001b[0m\u001b[1;33m]\u001b[0m\u001b[1;33m\u001b[0m\u001b[0m\n",
      "\u001b[1;31mIndexError\u001b[0m: list index out of range"
     ]
    }
   ],
   "source": [
    "lm = train_char_lm(\"pt-br/proust_dataset_ptbr.txt\", order=15)\n",
    "print generate_text(lm, 9, nletters=300, history=\"O amor\")"
   ]
  },
  {
   "cell_type": "code",
   "execution_count": 61,
   "metadata": {
    "collapsed": false
   },
   "outputs": [
    {
     "name": "stdout",
     "output_type": "stream",
     "text": [
      "ersar com amigo\n",
      " sejamos amigos\n",
      "tava os amigos,\n",
      "s seus amigos, \n",
      " seus amigos, u\n",
      "tais amigos, um\n",
      "ais amigos, um \n",
      "is amigos, um o\n",
      "s amigos, um ol\n",
      " amigos, um olh\n",
      "Amigos, um olha\n",
      "migos, um olhar\n",
      "igos, um olhar \n",
      "gos, um olhar d\n",
      "os, um olhar de\n",
      "s, um olhar de \n",
      ", um olhar de a\n",
      " um olhar de ad\n",
      "um olhar de adm\n",
      "m olhar de admi\n",
      " olhar de admir\n",
      "olhar de admira\n",
      "lhar de admira�\n",
      "har de admiraç\n",
      "ar de admiraç�\n",
      "r de admiraçã\n",
      " de admiração\n",
      "de admiração \n",
      "e admiração e\n",
      " admiração e \n",
      "admiração e m\n",
      "dmiração e ma\n",
      "miração e mal\n",
      "iração e mal-\n",
      "ração e mal-e\n",
      "ação e mal-es\n",
      "ção e mal-est\n",
      "�ão e mal-esta\n",
      "ão e mal-estar\n",
      "�o e mal-estar \n",
      "o e mal-estar q\n",
      " e mal-estar qu\n",
      "e mal-estar que\n",
      " mal-estar que \n",
      "mal-estar que c\n",
      "al-estar que ce\n",
      "l-estar que cer\n",
      "-estar que cert\n",
      "estar que certa\n",
      "star que certas\n",
      "tar que certas \n",
      "ar que certas f\n",
      "r que certas fl\n",
      " que certas flo\n",
      "que certas flor\n",
      "ue certas flore\n",
      "e certas flores\n",
      " certas flores.\n",
      "certas flores. \n",
      "ertas flores. S\n",
      "rtas flores. Su\n",
      "tas flores. Sur\n",
      "as flores. Surp\n",
      "s flores. Surpr\n",
      " flores. Surpre\n",
      "flores. Surpree\n",
      "lores. Surpreen\n",
      "ores. Surpreend\n",
      "res. Surpreendi\n",
      "es. Surpreendid\n",
      "s. Surpreendido\n",
      ". Surpreendido,\n",
      " Surpreendido, \n",
      "Surpreendido, n\n",
      "urpreendido, no\n",
      "rpreendido, no \n",
      "preendido, no e\n",
      "reendido, no en\n",
      "eendido, no ent\n",
      "endido, no enta\n",
      "ndido, no entan\n",
      "dido, no entant\n",
      "ido, no entanto\n",
      "do, no entanto,\n",
      "o, no entanto, \n",
      ", no entanto, q\n",
      " no entanto, qu\n",
      "no entanto, que\n",
      "o entanto, que \n",
      " entanto, que o\n",
      "entanto, que o \n",
      "ntanto, que o g\n",
      "tanto, que o gr\n",
      "anto, que o gra\n",
      "nto, que o gran\n",
      "to, que o grand\n",
      "o, que o grande\n",
      ", que o grande \n",
      " que o grande i\n",
      "que o grande im\n",
      "ue o grande imp\n",
      "e o grande impr\n",
      " o grande impre\n",
      "o grande impres\n",
      " grande impress\n",
      "grande impress�\n",
      "rande impressã\n",
      "ande impressão\n",
      "nde impressão.\n",
      "de impressão. \n",
      "e impressão. P\n",
      " impressão. Pr\n",
      "impressão. Pri\n",
      "mpressão. Prim\n",
      "pressão. Prime\n",
      "ressão. Primei\n",
      "essão. Primeir\n",
      "ssão. Primeiro\n",
      "são. Primeiro,\n",
      "ão. Primeiro, \n",
      "�o. Primeiro, e\n",
      "o. Primeiro, es\n",
      ". Primeiro, ess\n",
      " Primeiro, esse\n",
      "Primeiro, esse \n",
      "rimeiro, esse r\n",
      "imeiro, esse ra\n",
      "meiro, esse rap\n",
      "eiro, esse rapa\n",
      "iro, esse rapaz\n",
      "ro, esse rapaz \n",
      "o, esse rapaz (\n",
      ", esse rapaz (t\n",
      " esse rapaz (ta\n",
      "esse rapaz (tal\n",
      "sse rapaz (talv\n",
      "se rapaz (talve\n",
      "e rapaz (talvez\n",
      " rapaz (talvez \n",
      "rapaz (talvez c\n",
      "Amigos, um olhar de admiração e mal-estar que certas flores. Surpreendido, no entanto, que o grande impressão. Primeiro, esse rapaz (talvez co\n"
     ]
    }
   ],
   "source": [
    "print generate_text(lm, 15, nletters=140, history=\"Amigo\")"
   ]
  },
  {
   "cell_type": "code",
   "execution_count": 63,
   "metadata": {
    "collapsed": false
   },
   "outputs": [
    {
     "name": "stdout",
     "output_type": "stream",
     "text": [
      "Amizade, até a minha partida ia permitir que tivessem perdido seus filhos e sem a \n",
      "menor coriza. Às vezes um pouquinho de corte à minha mãe: \n",
      "- Sei do desgosto que isso podem vedar o acesso à sua porta excessivamente invadida. Mas a dos Guermantes, a duquesa deteve-o e protestou: “Sim, ele é muito \n"
     ]
    }
   ],
   "source": [
    "print generate_text(lm, 15, nletters=300, history=\"Amizade\")"
   ]
  },
  {
   "cell_type": "code",
   "execution_count": 64,
   "metadata": {
    "collapsed": false
   },
   "outputs": [
    {
     "name": "stdout",
     "output_type": "stream",
     "text": [
      "O amor, tanto na ansiedade de quem espera. Nada convida tanto a aproximar-se o momento em que menos os esperavam, e apelavam para pessoas que a saudavam. Aquele sorriso tombou em mim, que não o soube perceber em tempo) uma má impressão.\" \n",
      "Achas que parece inventado? \n",
      "- Absolutamente não pode lavar-se \n"
     ]
    }
   ],
   "source": [
    "print generate_text(lm, 15, nletters=300, history=\"O amor\")"
   ]
  },
  {
   "cell_type": "code",
   "execution_count": 66,
   "metadata": {
    "collapsed": false
   },
   "outputs": [
    {
     "name": "stdout",
     "output_type": "stream",
     "text": [
      "O amor-próprio. \n",
      "Pois (e o caso é freqüentemente nossas tias-avós eram abadessas, não teriam tempo. E se os pendores literários das senhoras de Villeparisis mantivesse “balcão de espírito”, não ficaria em casa se não receasse perder de todo o hábito, a possibilidade de ver as outras seguirem-na mais tarde e, ainda que não façam mais que nuançar o inexistente, porque lhe era invisível, só apanhava um \n",
      "resíduo que ela, ao contrário, desejava.\n"
     ]
    }
   ],
   "source": [
    "print generate_text(lm, 15, nletters=300, history=\"O amor\")"
   ]
  },
  {
   "cell_type": "code",
   "execution_count": 67,
   "metadata": {
    "collapsed": false
   },
   "outputs": [
    {
     "name": "stdout",
     "output_type": "stream",
     "text": [
      "O amor, desaparecera o desejo de mostrar que se é “tanto como os outros”, esse receio de se mostrar demasiado afetuoso, que nele não se dava nunca e que desfigura com tanta mesquinhez e falta de tato as mais sinceras amabilidades plebeias. Censurava-me eu às vezes por esse prazer de considerar meu amigo como uma obra de arte, por encarar o funcionamento de todas as partes da sua pessoa como harmoniosamente governado por uma ideia geral de que dependia, mas que lhe era desconhecida e, por consequência, nada acrescentava de novo às suas qualidades peculiares, a esse valor pessoal de inteligência e moralidade que ele tanto estimava.\n"
     ]
    }
   ],
   "source": [
    "lm = train_char_lm(\"pt-br/proust_dataset_ptbr.txt\", order=25)\n",
    "print generate_text(lm, 25, nletters=300, history=\"O amor\")"
   ]
  },
  {
   "cell_type": "code",
   "execution_count": null,
   "metadata": {
    "collapsed": true
   },
   "outputs": [],
   "source": [
    "lm = train_char_lm(\"pt-br/proust_dataset_ptbr.txt\", order=20)\n",
    "print generate_text(lm, 20, nletters=300, history=\"Seios\")"
   ]
  },
  {
   "cell_type": "code",
   "execution_count": null,
   "metadata": {
    "collapsed": true
   },
   "outputs": [],
   "source": []
  }
 ],
 "metadata": {
  "kernelspec": {
   "display_name": "Python 2",
   "language": "python",
   "name": "python2"
  },
  "language_info": {
   "codemirror_mode": {
    "name": "ipython",
    "version": 2
   },
   "file_extension": ".py",
   "mimetype": "text/x-python",
   "name": "python",
   "nbconvert_exporter": "python",
   "pygments_lexer": "ipython2",
   "version": "2.7.9"
  }
 },
 "nbformat": 4,
 "nbformat_minor": 0
}
