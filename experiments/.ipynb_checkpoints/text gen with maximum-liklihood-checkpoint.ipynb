{
 "cells": [
  {
   "cell_type": "markdown",
   "metadata": {},
   "source": [
    "Based on @yaov notebook \"The unreasonable effectiveness of Character-level Language Models\" (http://nbviewer.jupyter.org/gist/yoavg/d76121dfde2618422139).\n",
    "\n",
    "Using the ** unsmoothed maximum-liklihood character level language models ** to generate text passing first words, which can be seen as defining the subject."
   ]
  },
  {
   "cell_type": "code",
   "execution_count": 81,
   "metadata": {
    "collapsed": true
   },
   "outputs": [],
   "source": [
    "from collections import *\n",
    "import random\n",
    "import json\n",
    "\n",
    "def train_char_lm(fname, order=4):\n",
    "    data = file(fname).read()\n",
    "    #dealing with encoding\n",
    "    data = unicode(data, \"utf-8\")\n",
    "    lm = defaultdict(Counter)\n",
    "    pad = \"~\" * order\n",
    "    data = pad + data\n",
    "    for i in xrange(len(data)-order):\n",
    "        history, char = data[i:i+order], data[i+order] \n",
    "        lm[history][char]+=1\n",
    "    def normalize(counter):\n",
    "        s = float(sum(counter.values()))\n",
    "        return [(c,cnt/s) for c,cnt in counter.iteritems()]\n",
    "    outlm = {hist:normalize(chars) for hist, chars in lm.iteritems()}\n",
    "    return outlm"
   ]
  },
  {
   "cell_type": "code",
   "execution_count": 61,
   "metadata": {
    "collapsed": false
   },
   "outputs": [],
   "source": [
    "lm = train_char_lm(\"data/proust_dataset_ptbr.txt\", order=4)"
   ]
  },
  {
   "cell_type": "code",
   "execution_count": 62,
   "metadata": {
    "collapsed": false
   },
   "outputs": [
    {
     "name": "stdout",
     "output_type": "stream",
     "text": [
      "[[\"a\", 0.4423076923076923], [\"â\", 0.11538461538461539], [\"e\", 0.057692307692307696], [\"o\", 0.38461538461538464]]\n"
     ]
    }
   ],
   "source": [
    "def show_pdf(lm, word):\n",
    "    pdf = lm[word]\n",
    "    pdf.sort(key=lambda tup: tup[1], reverse=True)\n",
    "    for item in pdf:\n",
    "        print item[0].encode(\"utf-8\"),\n",
    "        print \": \" + str(item[1])  "
   ]
  },
  {
   "cell_type": "code",
   "execution_count": 82,
   "metadata": {
    "collapsed": false
   },
   "outputs": [
    {
     "name": "stdout",
     "output_type": "stream",
     "text": [
      "o : 0.574675324675\n",
      "a : 0.408441558442\n",
      "u : 0.0116883116883\n",
      "á : 0.00454545454545\n",
      "  : 0.000649350649351\n"
     ]
    }
   ],
   "source": [
    "show_pdf(lm, \"amig\")"
   ]
  },
  {
   "cell_type": "code",
   "execution_count": 99,
   "metadata": {
    "collapsed": true
   },
   "outputs": [],
   "source": [
    "def generate_letter(lm, history, order):\n",
    "        history = history[-order:]   \n",
    "\n",
    "        if len(history) < order:\n",
    "            possible_hist = [key for key, value in lm.items() if history.lower() == key.lower()[-len(history):]]\n",
    "            history = possible_hist[random.randint(0, len(possible_hist)-1)]\n",
    "      \n",
    "        try:\n",
    "            dist = lm[history]\n",
    "        except:\n",
    "            dist = lm[history[0].lower() + history[1:]]\n",
    "        x = random.random()\n",
    "        for c,v in dist:\n",
    "            x = x - v\n",
    "            if x <= 0: return c\n",
    "            \n",
    "\n",
    "def generate_text(lm, order, nletters=1000, history=None):\n",
    "    if history == None: \n",
    "        history = \"~\" * order\n",
    "    else:\n",
    "        history = history[-min(len(history), order):]\n",
    "    out = []\n",
    "    out.append(history)\n",
    "    while(len(out) < nletters or out[-1] != \".\"):\n",
    "    #for i in xrange(nletters):\n",
    "        c = generate_letter(lm, history, order)\n",
    "        history = history[-order:] + c\n",
    "        out.append(c)\n",
    "    return \"\".join(out) "
   ]
  },
  {
   "cell_type": "code",
   "execution_count": 85,
   "metadata": {
    "collapsed": false
   },
   "outputs": [
    {
     "name": "stdout",
     "output_type": "stream",
     "text": [
      "Gordomo, de \n",
      "|\n",
      "dogarto dia às que monóculos Verdurin passas imaginar a no uma japontava poder acabava-se que as se ela no prema essa, que a estaurançou ela de Chateaubes planado o duques, com alugar é também que o campouco...”, tendido aspelia que o Sr. Verdurin estrumento pode manhã espertas tornavam onde exaltas, e quatroativas da parecisão de mim aque Heudicina, como eram quem Sra.\n"
     ]
    }
   ],
   "source": [
    "print generate_text(lm, 4, nletters=300, history=\"Gord\")"
   ]
  },
  {
   "cell_type": "code",
   "execution_count": 86,
   "metadata": {
    "collapsed": true
   },
   "outputs": [],
   "source": [
    "lm = train_char_lm(\"data/proust_dataset_ptbr.txt\", order=15)"
   ]
  },
  {
   "cell_type": "code",
   "execution_count": 90,
   "metadata": {
    "collapsed": false
   },
   "outputs": [
    {
     "name": "stdout",
     "output_type": "stream",
     "text": [
      "Gordo; porém raspara os bigodes e bastara isso para fazer-me ir a alguma parte — continuou em voz baixa —, embora tenha eu pleno direito à minha liberdade. É \n",
      "certo que abdiquei dela por outra forma - acrescentou, testemunhando-lhe os seus sentimentos. Mas é uma criatura deliciosa, uma mulher sustentada, e por um velho tão orgulhoso com os aristocratas, afeiçoa-se a eles, que se mostram logo uns ingratos.\n"
     ]
    }
   ],
   "source": [
    "print generate_text(lm, 15, nletters=300, history=\"Gord\")"
   ]
  },
  {
   "cell_type": "code",
   "execution_count": 91,
   "metadata": {
    "collapsed": false
   },
   "outputs": [
    {
     "name": "stdout",
     "output_type": "stream",
     "text": [
      "Amizade até os protestos da diletante. Ouvindo esse nome, adquiria sobre o mesmo tema-chave do primeiro e \n",
      "do último trecho! A supressão das palavras, não só por vinco profissional que se me entregou uma intimação para \n",
      "comparecer à presença do chefe de polícia. Os pais da menina, que me insultaram, e dizendo: \n",
      "- Para as despesas.\n"
     ]
    }
   ],
   "source": [
    "print generate_text(lm, 15, nletters=300, history=\"Amizade \")"
   ]
  },
  {
   "cell_type": "code",
   "execution_count": 92,
   "metadata": {
    "collapsed": false
   },
   "outputs": [
    {
     "name": "stdout",
     "output_type": "stream",
     "text": [
      "Os protestos da diletante. Ouvindo esse nome, adquiria sobre o mesmo tema-chave do primeiro e \n",
      "do último trecho, mas de modo algum peculiares em nossa época, os melhores executantes, e entre os quais, \n",
      "superestimando-o um pouco, eu situava Morel. E logo o meu pensamento graciosas imagens que vemos reunidas em alguma parte um dos fiéis \n",
      "extraviasse dos outros no percurso do caminho, a menos que provocasse as mais graves suspeita \n",
      "de farra ou até de não ter viajado com o trem.\n"
     ]
    }
   ],
   "source": [
    "print generate_text(lm, 15, nletters=300, history=\"Os protestos \")"
   ]
  },
  {
   "cell_type": "code",
   "execution_count": 94,
   "metadata": {
    "collapsed": false
   },
   "outputs": [
    {
     "name": "stdout",
     "output_type": "stream",
     "text": [
      "Revolução de não os haver guilhotinado a todos.\n",
      "— Salve, amigos! — dizia ele, vindo ao nosso encontro com Albertine). Mas, quanto às outras pessoas, que, com o tempo, houvesse até esquecido e perdoado um pouco —, no momento em que menos os esperavam, e apelavam para pessoas que a \n",
      "segunda não desejava que acabasse.\n"
     ]
    }
   ],
   "source": [
    "print generate_text(lm, 15, nletters=300, history=u\"Revolução\")"
   ]
  },
  {
   "cell_type": "code",
   "execution_count": 95,
   "metadata": {
    "collapsed": false
   },
   "outputs": [
    {
     "name": "stdout",
     "output_type": "stream",
     "text": [
      "Café e as emoções do processo empregado ou a um capricho do pintor, é a sua toga de catedrático ou de conselheiro, ou a sua murça de cardeal. O caráter ambíguo da criatura, reproduzir esse pico interno e extremo das sensações \n",
      "interpostas entre o rosto da mulher e os olhos do amante - esse enorme ovo doloroso que eu sentira ao ouvi-la precisava ser assim.\n"
     ]
    }
   ],
   "source": [
    "print generate_text(lm, 15, nletters=300, history=u\"Café\")"
   ]
  },
  {
   "cell_type": "code",
   "execution_count": 96,
   "metadata": {
    "collapsed": false
   },
   "outputs": [
    {
     "name": "stdout",
     "output_type": "stream",
     "text": [
      "Flores peçonhentas? Talvez, pensava eu, o próprio vício \n",
      "de Albertine, com freqüência encontrando os meus. Em breve as pernas se entrelaçaram. \n",
      "Meus dois a nada viam; eu pisava em brasas. Uma das mulheres que nada fizemos por tornar a ver e que respondeu ao meu cumprimento, com um movimento igual, séculos afora) \n",
      "e fazê-lo, numa curva brusca, retornar ao real, queimar etapas, atravessar regiões de campo raso antes de encontrá-la, descobre-nos a errar ali por fora, na desesperada e cotidiana à morte fragmentária e sucessiva, tal como se \n",
      "encorajou um movimento sodomita e reconstruir Sodoma.\n"
     ]
    }
   ],
   "source": [
    "print generate_text(lm, 15, nletters=300, history=u\"Flores \")"
   ]
  },
  {
   "cell_type": "code",
   "execution_count": 104,
   "metadata": {
    "collapsed": true
   },
   "outputs": [],
   "source": [
    "def gen_tweet(lm, order, theme, max_iter=30):\n",
    "    tweet = generate_text(lm, order, nletters=order+1, history=theme)\n",
    "    iter = 0\n",
    "    while len(tweet) > 140 and iter < max_iter and len(tweet) < 70:\n",
    "        tweet = generate_text(lm, order, nletters=order+1, history=theme)\n",
    "        iter += 1\n",
    "    return tweet"
   ]
  },
  {
   "cell_type": "code",
   "execution_count": 100,
   "metadata": {
    "collapsed": false
   },
   "outputs": [
    {
     "name": "stdout",
     "output_type": "stream",
     "text": [
      "Cama para \n",
      "visitar a amiga, poderia interromper aqui ou ali, sem concluir, como esses cursos \n",
      "da história da lavadeira.\n"
     ]
    }
   ],
   "source": [
    "print gen_tweet(lm, 15, theme=\"Cama \")"
   ]
  },
  {
   "cell_type": "code",
   "execution_count": 101,
   "metadata": {
    "collapsed": false
   },
   "outputs": [
    {
     "name": "stdout",
     "output_type": "stream",
     "text": [
      "Amores pelas pessoas da sociedade, do ponto de vista em que lhe causara, talvez procedesse \n",
      "acertadamente em aproveitar essa parada que se prolongavam nela sem sofrer desvio porque passava através dele a personalidade, e eu desejava ardentemente iluminadas, como se diz no jargão judicial desapropriada.\n"
     ]
    }
   ],
   "source": [
    "print gen_tweet(lm, 15, theme=u\"Amores \")"
   ]
  },
  {
   "cell_type": "markdown",
   "metadata": {},
   "source": [
    "O trecho acima atingiu o max_iter, ou seja, foram geradas 20 frases, mas nenhuma atendia os requisitos. A última gerada é retornada."
   ]
  },
  {
   "cell_type": "code",
   "execution_count": 102,
   "metadata": {
    "collapsed": false
   },
   "outputs": [
    {
     "name": "stdout",
     "output_type": "stream",
     "text": [
      "Meu amor por \n",
      "Albertine) e também pela do ambiente em que gostava de viver para si mesmo, exclamou: \n",
      "- Mas como! Peço-lhe! Ora essa! - O tom astuciosamente de certas definições que eu estupidamente mundano.\n"
     ]
    }
   ],
   "source": [
    "print gen_tweet(lm, 15, theme=u\"Meu amor \")"
   ]
  },
  {
   "cell_type": "code",
   "execution_count": 103,
   "metadata": {
    "collapsed": false
   },
   "outputs": [
    {
     "name": "stdout",
     "output_type": "stream",
     "text": [
      "A política racional (vitória contra a França uma batalha do Primeiro Império e da Restauração, e \n",
      "também quantas histórias com Oriane?”, acrescentava um ligeiro sorriso, era numa mulher! \n",
      "Ia mover-me de novo para jantar; extraordinários que possa parecer \n",
      "àquele que não existia entre a região e aquela mulher; a de que o sentimento de vergonha, inventara todo um romance.\n"
     ]
    }
   ],
   "source": [
    "print gen_tweet(lm, 15, theme=u\"A política \")"
   ]
  },
  {
   "cell_type": "code",
   "execution_count": 105,
   "metadata": {
    "collapsed": false
   },
   "outputs": [
    {
     "name": "stdout",
     "output_type": "stream",
     "text": [
      "Armário rústico de um velho solar transformado num Charlus mil vezes mais inteligente que o resto da pupila reagia segregando ondas de azul.\n"
     ]
    }
   ],
   "source": [
    "print gen_tweet(lm, 15, theme=u\"Armário \")"
   ]
  },
  {
   "cell_type": "code",
   "execution_count": null,
   "metadata": {
    "collapsed": true
   },
   "outputs": [],
   "source": []
  }
 ],
 "metadata": {
  "kernelspec": {
   "display_name": "Python 2",
   "language": "python",
   "name": "python2"
  },
  "language_info": {
   "codemirror_mode": {
    "name": "ipython",
    "version": 2
   },
   "file_extension": ".py",
   "mimetype": "text/x-python",
   "name": "python",
   "nbconvert_exporter": "python",
   "pygments_lexer": "ipython2",
   "version": "2.7.9"
  }
 },
 "nbformat": 4,
 "nbformat_minor": 0
}
